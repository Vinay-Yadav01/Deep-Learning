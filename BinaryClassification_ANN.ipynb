{
 "cells": [
  {
   "cell_type": "code",
   "execution_count": 1,
   "metadata": {
    "id": "4DzyxDcIeSaA"
   },
   "outputs": [
    {
     "name": "stdout",
     "output_type": "stream",
     "text": [
      "WARNING:tensorflow:From C:\\Users\\vnyda\\AppData\\Roaming\\Python\\Python311\\site-packages\\keras\\src\\losses.py:2976: The name tf.losses.sparse_softmax_cross_entropy is deprecated. Please use tf.compat.v1.losses.sparse_softmax_cross_entropy instead.\n",
      "\n"
     ]
    }
   ],
   "source": [
    "import numpy as np\n",
    "import pandas as pd\n",
    "import seaborn as sns\n",
    "import matplotlib.pyplot as plt\n",
    "\n",
    "from sklearn.model_selection import train_test_split\n",
    "from sklearn.preprocessing import StandardScaler\n",
    "from sklearn.linear_model import LogisticRegression\n",
    "from sklearn.metrics import accuracy_score, precision_score, recall_score, f1_score, confusion_matrix\n",
    "\n",
    "import tensorflow as tf\n",
    "from tensorflow import keras\n",
    "from tensorflow.keras.models import Sequential\n",
    "from tensorflow.keras.layers import Dense, Dropout"
   ]
  },
  {
   "cell_type": "code",
   "execution_count": 2,
   "metadata": {
    "colab": {
     "base_uri": "https://localhost:8080/",
     "height": 206
    },
    "executionInfo": {
     "elapsed": 310,
     "status": "ok",
     "timestamp": 1743515647034,
     "user": {
      "displayName": "Gowtham Sri Charan",
      "userId": "04740881411600871367"
     },
     "user_tz": -330
    },
    "id": "M4JKkzOyoEHa",
    "outputId": "c127a1bf-1b9c-40ed-ecdb-58f18952b6f9"
   },
   "outputs": [
    {
     "data": {
      "text/html": [
       "<div>\n",
       "<style scoped>\n",
       "    .dataframe tbody tr th:only-of-type {\n",
       "        vertical-align: middle;\n",
       "    }\n",
       "\n",
       "    .dataframe tbody tr th {\n",
       "        vertical-align: top;\n",
       "    }\n",
       "\n",
       "    .dataframe thead th {\n",
       "        text-align: right;\n",
       "    }\n",
       "</style>\n",
       "<table border=\"1\" class=\"dataframe\">\n",
       "  <thead>\n",
       "    <tr style=\"text-align: right;\">\n",
       "      <th></th>\n",
       "      <th>survived</th>\n",
       "      <th>pclass</th>\n",
       "      <th>sex</th>\n",
       "      <th>age</th>\n",
       "      <th>sibsp</th>\n",
       "      <th>parch</th>\n",
       "      <th>fare</th>\n",
       "      <th>embarked</th>\n",
       "      <th>class</th>\n",
       "      <th>who</th>\n",
       "      <th>adult_male</th>\n",
       "      <th>deck</th>\n",
       "      <th>embark_town</th>\n",
       "      <th>alive</th>\n",
       "      <th>alone</th>\n",
       "    </tr>\n",
       "  </thead>\n",
       "  <tbody>\n",
       "    <tr>\n",
       "      <th>0</th>\n",
       "      <td>0</td>\n",
       "      <td>3</td>\n",
       "      <td>male</td>\n",
       "      <td>22.0</td>\n",
       "      <td>1</td>\n",
       "      <td>0</td>\n",
       "      <td>7.2500</td>\n",
       "      <td>S</td>\n",
       "      <td>Third</td>\n",
       "      <td>man</td>\n",
       "      <td>True</td>\n",
       "      <td>NaN</td>\n",
       "      <td>Southampton</td>\n",
       "      <td>no</td>\n",
       "      <td>False</td>\n",
       "    </tr>\n",
       "    <tr>\n",
       "      <th>1</th>\n",
       "      <td>1</td>\n",
       "      <td>1</td>\n",
       "      <td>female</td>\n",
       "      <td>38.0</td>\n",
       "      <td>1</td>\n",
       "      <td>0</td>\n",
       "      <td>71.2833</td>\n",
       "      <td>C</td>\n",
       "      <td>First</td>\n",
       "      <td>woman</td>\n",
       "      <td>False</td>\n",
       "      <td>C</td>\n",
       "      <td>Cherbourg</td>\n",
       "      <td>yes</td>\n",
       "      <td>False</td>\n",
       "    </tr>\n",
       "    <tr>\n",
       "      <th>2</th>\n",
       "      <td>1</td>\n",
       "      <td>3</td>\n",
       "      <td>female</td>\n",
       "      <td>26.0</td>\n",
       "      <td>0</td>\n",
       "      <td>0</td>\n",
       "      <td>7.9250</td>\n",
       "      <td>S</td>\n",
       "      <td>Third</td>\n",
       "      <td>woman</td>\n",
       "      <td>False</td>\n",
       "      <td>NaN</td>\n",
       "      <td>Southampton</td>\n",
       "      <td>yes</td>\n",
       "      <td>True</td>\n",
       "    </tr>\n",
       "    <tr>\n",
       "      <th>3</th>\n",
       "      <td>1</td>\n",
       "      <td>1</td>\n",
       "      <td>female</td>\n",
       "      <td>35.0</td>\n",
       "      <td>1</td>\n",
       "      <td>0</td>\n",
       "      <td>53.1000</td>\n",
       "      <td>S</td>\n",
       "      <td>First</td>\n",
       "      <td>woman</td>\n",
       "      <td>False</td>\n",
       "      <td>C</td>\n",
       "      <td>Southampton</td>\n",
       "      <td>yes</td>\n",
       "      <td>False</td>\n",
       "    </tr>\n",
       "    <tr>\n",
       "      <th>4</th>\n",
       "      <td>0</td>\n",
       "      <td>3</td>\n",
       "      <td>male</td>\n",
       "      <td>35.0</td>\n",
       "      <td>0</td>\n",
       "      <td>0</td>\n",
       "      <td>8.0500</td>\n",
       "      <td>S</td>\n",
       "      <td>Third</td>\n",
       "      <td>man</td>\n",
       "      <td>True</td>\n",
       "      <td>NaN</td>\n",
       "      <td>Southampton</td>\n",
       "      <td>no</td>\n",
       "      <td>True</td>\n",
       "    </tr>\n",
       "  </tbody>\n",
       "</table>\n",
       "</div>"
      ],
      "text/plain": [
       "   survived  pclass     sex   age  sibsp  parch     fare embarked  class  \\\n",
       "0         0       3    male  22.0      1      0   7.2500        S  Third   \n",
       "1         1       1  female  38.0      1      0  71.2833        C  First   \n",
       "2         1       3  female  26.0      0      0   7.9250        S  Third   \n",
       "3         1       1  female  35.0      1      0  53.1000        S  First   \n",
       "4         0       3    male  35.0      0      0   8.0500        S  Third   \n",
       "\n",
       "     who  adult_male deck  embark_town alive  alone  \n",
       "0    man        True  NaN  Southampton    no  False  \n",
       "1  woman       False    C    Cherbourg   yes  False  \n",
       "2  woman       False  NaN  Southampton   yes   True  \n",
       "3  woman       False    C  Southampton   yes  False  \n",
       "4    man        True  NaN  Southampton    no   True  "
      ]
     },
     "execution_count": 2,
     "metadata": {},
     "output_type": "execute_result"
    }
   ],
   "source": [
    "# Load Titanic dataset from Seaborn\n",
    "titanic = sns.load_dataset('titanic')\n",
    "\n",
    "titanic.head()\n"
   ]
  },
  {
   "cell_type": "code",
   "execution_count": 3,
   "metadata": {
    "id": "qCAcydpIoHo0"
   },
   "outputs": [],
   "source": [
    "# Select relevant features and drop rows with missing values\n",
    "titanic = titanic[['survived', 'pclass', 'sex', 'age', 'fare', 'embark_town']].dropna()\n",
    "\n",
    "# Encode categorical variables\n",
    "titanic['sex'] = titanic['sex'].map({'male': 0, 'female': 1})\n",
    "titanic = pd.get_dummies(titanic, columns=['embark_town'], drop_first=True)\n",
    "\n",
    "# Split dataset into features (X) and target (y)\n",
    "X = titanic.drop(columns=['survived'])\n",
    "y = titanic['survived']\n",
    "\n",
    "# Split into train and test sets\n",
    "X_train, X_test, y_train, y_test = train_test_split(X, y, test_size=0.2, random_state=42, stratify=y)\n"
   ]
  },
  {
   "cell_type": "code",
   "execution_count": 4,
   "metadata": {
    "id": "PpIh5UhZoKUt"
   },
   "outputs": [],
   "source": [
    "# Standardize numerical features\n",
    "scaler = StandardScaler()\n",
    "X_train = scaler.fit_transform(X_train)\n",
    "X_test = scaler.transform(X_test)\n"
   ]
  },
  {
   "cell_type": "code",
   "execution_count": 5,
   "metadata": {
    "id": "EvmzwooXoRGd"
   },
   "outputs": [],
   "source": [
    "# Train Logistic Regression Model\n",
    "log_reg = LogisticRegression()\n",
    "log_reg.fit(X_train, y_train)\n",
    "\n",
    "# Predictions\n",
    "y_pred_lr = log_reg.predict(X_test)\n"
   ]
  },
  {
   "cell_type": "code",
   "execution_count": 6,
   "metadata": {
    "colab": {
     "base_uri": "https://localhost:8080/"
    },
    "executionInfo": {
     "elapsed": 61,
     "status": "ok",
     "timestamp": 1743516105201,
     "user": {
      "displayName": "Gowtham Sri Charan",
      "userId": "04740881411600871367"
     },
     "user_tz": -330
    },
    "id": "P-SC0pOJof_8",
    "outputId": "97a64b51-0357-4412-8889-0dcb6b13d2aa"
   },
   "outputs": [
    {
     "name": "stdout",
     "output_type": "stream",
     "text": [
      "Accuracy: 0.7832167832167832\n",
      "Precision: 0.7454545454545455\n",
      "Recall: 0.7068965517241379\n",
      "F1 Score: 0.7256637168141593\n",
      "Confusion Matrix: [[71 14]\n",
      " [17 41]]\n"
     ]
    }
   ],
   "source": [
    "# Evaluate Logistic Regression\n",
    "lr_metrics = {\n",
    "    'Accuracy': accuracy_score(y_test, y_pred_lr),\n",
    "    'Precision': precision_score(y_test, y_pred_lr),\n",
    "    'Recall': recall_score(y_test, y_pred_lr),\n",
    "    'F1 Score': f1_score(y_test, y_pred_lr),\n",
    "    'Confusion Matrix': confusion_matrix(y_test, y_pred_lr)\n",
    "}\n",
    "\n",
    "# Print Logistic Regression results\n",
    "for metric, value in lr_metrics.items():\n",
    "    print(f\"{metric}: {value}\")\n"
   ]
  },
  {
   "cell_type": "code",
   "execution_count": 7,
   "metadata": {
    "id": "QSlXY6P_omoR"
   },
   "outputs": [
    {
     "name": "stdout",
     "output_type": "stream",
     "text": [
      "WARNING:tensorflow:From C:\\Users\\vnyda\\AppData\\Roaming\\Python\\Python311\\site-packages\\keras\\src\\backend.py:873: The name tf.get_default_graph is deprecated. Please use tf.compat.v1.get_default_graph instead.\n",
      "\n"
     ]
    }
   ],
   "source": [
    "# Build ANN Model\n",
    "ann = Sequential([\n",
    "    Dense(32, activation='relu', input_shape=(X_train.shape[1],)),\n",
    "    Dropout(0.3),\n",
    "    Dense(16, activation='relu'),\n",
    "    Dropout(0.2),\n",
    "    Dense(1, activation='sigmoid')  # Sigmoid for binary classification\n",
    "])"
   ]
  },
  {
   "cell_type": "code",
   "execution_count": 8,
   "metadata": {
    "colab": {
     "base_uri": "https://localhost:8080/",
     "height": 289
    },
    "executionInfo": {
     "elapsed": 229,
     "status": "ok",
     "timestamp": 1743515767280,
     "user": {
      "displayName": "Gowtham Sri Charan",
      "userId": "04740881411600871367"
     },
     "user_tz": -330
    },
    "id": "i1hz_QPYovz8",
    "outputId": "afc248cb-beb9-4857-8187-49151473eca6"
   },
   "outputs": [
    {
     "name": "stdout",
     "output_type": "stream",
     "text": [
      "WARNING:tensorflow:From C:\\Users\\vnyda\\AppData\\Roaming\\Python\\Python311\\site-packages\\keras\\src\\optimizers\\__init__.py:309: The name tf.train.Optimizer is deprecated. Please use tf.compat.v1.train.Optimizer instead.\n",
      "\n",
      "Model: \"sequential\"\n",
      "_________________________________________________________________\n",
      " Layer (type)                Output Shape              Param #   \n",
      "=================================================================\n",
      " dense (Dense)               (None, 32)                224       \n",
      "                                                                 \n",
      " dropout (Dropout)           (None, 32)                0         \n",
      "                                                                 \n",
      " dense_1 (Dense)             (None, 16)                528       \n",
      "                                                                 \n",
      " dropout_1 (Dropout)         (None, 16)                0         \n",
      "                                                                 \n",
      " dense_2 (Dense)             (None, 1)                 17        \n",
      "                                                                 \n",
      "=================================================================\n",
      "Total params: 769 (3.00 KB)\n",
      "Trainable params: 769 (3.00 KB)\n",
      "Non-trainable params: 0 (0.00 Byte)\n",
      "_________________________________________________________________\n"
     ]
    }
   ],
   "source": [
    "# Compile the model\n",
    "ann.compile(loss='binary_crossentropy', optimizer='adam', metrics=['accuracy'])\n",
    "ann.summary()"
   ]
  },
  {
   "cell_type": "code",
   "execution_count": 9,
   "metadata": {
    "colab": {
     "base_uri": "https://localhost:8080/"
    },
    "executionInfo": {
     "elapsed": 18205,
     "status": "ok",
     "timestamp": 1743515803552,
     "user": {
      "displayName": "Gowtham Sri Charan",
      "userId": "04740881411600871367"
     },
     "user_tz": -330
    },
    "id": "tECfwYpgo1-o",
    "outputId": "8ee97f85-7342-4cd9-8f15-894340a744d6"
   },
   "outputs": [
    {
     "name": "stdout",
     "output_type": "stream",
     "text": [
      "Epoch 1/50\n",
      "WARNING:tensorflow:From C:\\Users\\vnyda\\AppData\\Roaming\\Python\\Python311\\site-packages\\keras\\src\\utils\\tf_utils.py:492: The name tf.ragged.RaggedTensorValue is deprecated. Please use tf.compat.v1.ragged.RaggedTensorValue instead.\n",
      "\n",
      "WARNING:tensorflow:From C:\\Users\\vnyda\\AppData\\Roaming\\Python\\Python311\\site-packages\\keras\\src\\engine\\base_layer_utils.py:384: The name tf.executing_eagerly_outside_functions is deprecated. Please use tf.compat.v1.executing_eagerly_outside_functions instead.\n",
      "\n",
      "36/36 [==============================] - 1s 7ms/step - loss: 0.6842 - accuracy: 0.5800 - val_loss: 0.6198 - val_accuracy: 0.7832\n",
      "Epoch 2/50\n",
      "36/36 [==============================] - 0s 2ms/step - loss: 0.6210 - accuracy: 0.7364 - val_loss: 0.5638 - val_accuracy: 0.7832\n",
      "Epoch 3/50\n",
      "36/36 [==============================] - 0s 2ms/step - loss: 0.5653 - accuracy: 0.7592 - val_loss: 0.5203 - val_accuracy: 0.7902\n",
      "Epoch 4/50\n",
      "36/36 [==============================] - 0s 3ms/step - loss: 0.5333 - accuracy: 0.7575 - val_loss: 0.4897 - val_accuracy: 0.7972\n",
      "Epoch 5/50\n",
      "36/36 [==============================] - 0s 2ms/step - loss: 0.5122 - accuracy: 0.7663 - val_loss: 0.4750 - val_accuracy: 0.7972\n",
      "Epoch 6/50\n",
      "36/36 [==============================] - 0s 2ms/step - loss: 0.5002 - accuracy: 0.7838 - val_loss: 0.4700 - val_accuracy: 0.7692\n",
      "Epoch 7/50\n",
      "36/36 [==============================] - 0s 2ms/step - loss: 0.5077 - accuracy: 0.7838 - val_loss: 0.4633 - val_accuracy: 0.7762\n",
      "Epoch 8/50\n",
      "36/36 [==============================] - 0s 2ms/step - loss: 0.5005 - accuracy: 0.7750 - val_loss: 0.4597 - val_accuracy: 0.7552\n",
      "Epoch 9/50\n",
      "36/36 [==============================] - 0s 2ms/step - loss: 0.4724 - accuracy: 0.7891 - val_loss: 0.4553 - val_accuracy: 0.7692\n",
      "Epoch 10/50\n",
      "36/36 [==============================] - 0s 3ms/step - loss: 0.4711 - accuracy: 0.7891 - val_loss: 0.4541 - val_accuracy: 0.7622\n",
      "Epoch 11/50\n",
      "36/36 [==============================] - 0s 2ms/step - loss: 0.4612 - accuracy: 0.7856 - val_loss: 0.4532 - val_accuracy: 0.7622\n",
      "Epoch 12/50\n",
      "36/36 [==============================] - 0s 2ms/step - loss: 0.4851 - accuracy: 0.7996 - val_loss: 0.4507 - val_accuracy: 0.7692\n",
      "Epoch 13/50\n",
      "36/36 [==============================] - 0s 2ms/step - loss: 0.4647 - accuracy: 0.7996 - val_loss: 0.4509 - val_accuracy: 0.7762\n",
      "Epoch 14/50\n",
      "36/36 [==============================] - 0s 3ms/step - loss: 0.4741 - accuracy: 0.7944 - val_loss: 0.4518 - val_accuracy: 0.7622\n",
      "Epoch 15/50\n",
      "36/36 [==============================] - 0s 3ms/step - loss: 0.4811 - accuracy: 0.7979 - val_loss: 0.4535 - val_accuracy: 0.7692\n",
      "Epoch 16/50\n",
      "36/36 [==============================] - 0s 3ms/step - loss: 0.4623 - accuracy: 0.7926 - val_loss: 0.4497 - val_accuracy: 0.7762\n",
      "Epoch 17/50\n",
      "36/36 [==============================] - 0s 4ms/step - loss: 0.4495 - accuracy: 0.7909 - val_loss: 0.4509 - val_accuracy: 0.7762\n",
      "Epoch 18/50\n",
      "36/36 [==============================] - 0s 3ms/step - loss: 0.4604 - accuracy: 0.8014 - val_loss: 0.4506 - val_accuracy: 0.7832\n",
      "Epoch 19/50\n",
      "36/36 [==============================] - 0s 2ms/step - loss: 0.4665 - accuracy: 0.7961 - val_loss: 0.4491 - val_accuracy: 0.7762\n",
      "Epoch 20/50\n",
      "36/36 [==============================] - 0s 4ms/step - loss: 0.4651 - accuracy: 0.7838 - val_loss: 0.4498 - val_accuracy: 0.7902\n",
      "Epoch 21/50\n",
      "36/36 [==============================] - 0s 3ms/step - loss: 0.4516 - accuracy: 0.7961 - val_loss: 0.4515 - val_accuracy: 0.7692\n",
      "Epoch 22/50\n",
      "36/36 [==============================] - 0s 3ms/step - loss: 0.4576 - accuracy: 0.8102 - val_loss: 0.4516 - val_accuracy: 0.7762\n",
      "Epoch 23/50\n",
      "36/36 [==============================] - 0s 2ms/step - loss: 0.4518 - accuracy: 0.8084 - val_loss: 0.4490 - val_accuracy: 0.7622\n",
      "Epoch 24/50\n",
      "36/36 [==============================] - 0s 2ms/step - loss: 0.4461 - accuracy: 0.7926 - val_loss: 0.4464 - val_accuracy: 0.7902\n",
      "Epoch 25/50\n",
      "36/36 [==============================] - 0s 3ms/step - loss: 0.4572 - accuracy: 0.7996 - val_loss: 0.4480 - val_accuracy: 0.7902\n",
      "Epoch 26/50\n",
      "36/36 [==============================] - 0s 4ms/step - loss: 0.4444 - accuracy: 0.7909 - val_loss: 0.4495 - val_accuracy: 0.7832\n",
      "Epoch 27/50\n",
      "36/36 [==============================] - 0s 3ms/step - loss: 0.4369 - accuracy: 0.8120 - val_loss: 0.4523 - val_accuracy: 0.7832\n",
      "Epoch 28/50\n",
      "36/36 [==============================] - 0s 3ms/step - loss: 0.4534 - accuracy: 0.7891 - val_loss: 0.4498 - val_accuracy: 0.7762\n",
      "Epoch 29/50\n",
      "36/36 [==============================] - 0s 2ms/step - loss: 0.4420 - accuracy: 0.7996 - val_loss: 0.4482 - val_accuracy: 0.7972\n",
      "Epoch 30/50\n",
      "36/36 [==============================] - 0s 2ms/step - loss: 0.4558 - accuracy: 0.7944 - val_loss: 0.4467 - val_accuracy: 0.7972\n",
      "Epoch 31/50\n",
      "36/36 [==============================] - 0s 2ms/step - loss: 0.4255 - accuracy: 0.8102 - val_loss: 0.4469 - val_accuracy: 0.7972\n",
      "Epoch 32/50\n",
      "36/36 [==============================] - 0s 2ms/step - loss: 0.4448 - accuracy: 0.8014 - val_loss: 0.4477 - val_accuracy: 0.8042\n",
      "Epoch 33/50\n",
      "36/36 [==============================] - 0s 2ms/step - loss: 0.4463 - accuracy: 0.8137 - val_loss: 0.4467 - val_accuracy: 0.8112\n",
      "Epoch 34/50\n",
      "36/36 [==============================] - 0s 2ms/step - loss: 0.4400 - accuracy: 0.8137 - val_loss: 0.4498 - val_accuracy: 0.7972\n",
      "Epoch 35/50\n",
      "36/36 [==============================] - 0s 2ms/step - loss: 0.4357 - accuracy: 0.8172 - val_loss: 0.4476 - val_accuracy: 0.7902\n",
      "Epoch 36/50\n",
      "36/36 [==============================] - 0s 3ms/step - loss: 0.4500 - accuracy: 0.7979 - val_loss: 0.4478 - val_accuracy: 0.7902\n",
      "Epoch 37/50\n",
      "36/36 [==============================] - 0s 2ms/step - loss: 0.4456 - accuracy: 0.8032 - val_loss: 0.4500 - val_accuracy: 0.7902\n",
      "Epoch 38/50\n",
      "36/36 [==============================] - 0s 2ms/step - loss: 0.4465 - accuracy: 0.8243 - val_loss: 0.4501 - val_accuracy: 0.7972\n",
      "Epoch 39/50\n",
      "36/36 [==============================] - 0s 2ms/step - loss: 0.4576 - accuracy: 0.8067 - val_loss: 0.4507 - val_accuracy: 0.7972\n",
      "Epoch 40/50\n",
      "36/36 [==============================] - 0s 2ms/step - loss: 0.4317 - accuracy: 0.8225 - val_loss: 0.4542 - val_accuracy: 0.7762\n",
      "Epoch 41/50\n",
      "36/36 [==============================] - 0s 2ms/step - loss: 0.4401 - accuracy: 0.8155 - val_loss: 0.4526 - val_accuracy: 0.8042\n",
      "Epoch 42/50\n",
      "36/36 [==============================] - 0s 2ms/step - loss: 0.4453 - accuracy: 0.8014 - val_loss: 0.4501 - val_accuracy: 0.7972\n",
      "Epoch 43/50\n",
      "36/36 [==============================] - 0s 2ms/step - loss: 0.4430 - accuracy: 0.8032 - val_loss: 0.4481 - val_accuracy: 0.7972\n",
      "Epoch 44/50\n",
      "36/36 [==============================] - 0s 2ms/step - loss: 0.4335 - accuracy: 0.7979 - val_loss: 0.4494 - val_accuracy: 0.7972\n",
      "Epoch 45/50\n",
      "36/36 [==============================] - 0s 2ms/step - loss: 0.4441 - accuracy: 0.8155 - val_loss: 0.4481 - val_accuracy: 0.8042\n",
      "Epoch 46/50\n",
      "36/36 [==============================] - 0s 2ms/step - loss: 0.4224 - accuracy: 0.8225 - val_loss: 0.4487 - val_accuracy: 0.7972\n",
      "Epoch 47/50\n",
      "36/36 [==============================] - 0s 2ms/step - loss: 0.4357 - accuracy: 0.8102 - val_loss: 0.4476 - val_accuracy: 0.7902\n",
      "Epoch 48/50\n",
      "36/36 [==============================] - 0s 2ms/step - loss: 0.4334 - accuracy: 0.8172 - val_loss: 0.4475 - val_accuracy: 0.8042\n",
      "Epoch 49/50\n",
      "36/36 [==============================] - 0s 2ms/step - loss: 0.4340 - accuracy: 0.7909 - val_loss: 0.4460 - val_accuracy: 0.8042\n",
      "Epoch 50/50\n",
      "36/36 [==============================] - 0s 2ms/step - loss: 0.4311 - accuracy: 0.8172 - val_loss: 0.4471 - val_accuracy: 0.7902\n"
     ]
    }
   ],
   "source": [
    "# Train the model\n",
    "history = ann.fit(X_train, y_train, epochs=50, batch_size=16, validation_data=(X_test, y_test), verbose=1)"
   ]
  },
  {
   "cell_type": "code",
   "execution_count": 10,
   "metadata": {
    "colab": {
     "base_uri": "https://localhost:8080/"
    },
    "executionInfo": {
     "elapsed": 460,
     "status": "ok",
     "timestamp": 1743515981444,
     "user": {
      "displayName": "Gowtham Sri Charan",
      "userId": "04740881411600871367"
     },
     "user_tz": -330
    },
    "id": "dEwTHxEApm-L",
    "outputId": "fc8320e7-0eac-4e47-bc2d-7f6af6fd5c39"
   },
   "outputs": [
    {
     "name": "stdout",
     "output_type": "stream",
     "text": [
      "5/5 [==============================] - 0s 1ms/step\n"
     ]
    }
   ],
   "source": [
    "# Predict class probabilities\n",
    "y_pred_ann_prob = ann.predict(X_test)\n",
    "\n",
    "# Convert probabilities to binary values (0 or 1)\n",
    "y_pred_ann = (y_pred_ann_prob > 0.5).astype(int).flatten()"
   ]
  },
  {
   "cell_type": "code",
   "execution_count": 11,
   "metadata": {
    "colab": {
     "base_uri": "https://localhost:8080/"
    },
    "executionInfo": {
     "elapsed": 28,
     "status": "ok",
     "timestamp": 1743516086251,
     "user": {
      "displayName": "Gowtham Sri Charan",
      "userId": "04740881411600871367"
     },
     "user_tz": -330
    },
    "id": "2w2uqnOBpsbC",
    "outputId": "147ebb06-b663-49bd-9fe0-8be4ea241733"
   },
   "outputs": [
    {
     "name": "stdout",
     "output_type": "stream",
     "text": [
      "Accuracy: 0.7902097902097902\n",
      "Precision: 0.7916666666666666\n",
      "Recall: 0.6551724137931034\n",
      "F1 Score: 0.7169811320754716\n",
      "Confusion Matrix: [[75 10]\n",
      " [20 38]]\n"
     ]
    }
   ],
   "source": [
    "# Evaluate ANN Model\n",
    "ann_metrics = {\n",
    "    'Accuracy': accuracy_score(y_test, y_pred_ann),\n",
    "    'Precision': precision_score(y_test, y_pred_ann),\n",
    "    'Recall': recall_score(y_test, y_pred_ann),\n",
    "    'F1 Score': f1_score(y_test, y_pred_ann),\n",
    "    'Confusion Matrix': confusion_matrix(y_test, y_pred_ann)\n",
    "}\n",
    "\n",
    "# Print ANN results\n",
    "for metric, value in ann_metrics.items():\n",
    "    print(f\"{metric}: {value}\")\n"
   ]
  },
  {
   "cell_type": "code",
   "execution_count": 12,
   "metadata": {
    "colab": {
     "base_uri": "https://localhost:8080/"
    },
    "executionInfo": {
     "elapsed": 18,
     "status": "ok",
     "timestamp": 1743516055464,
     "user": {
      "displayName": "Gowtham Sri Charan",
      "userId": "04740881411600871367"
     },
     "user_tz": -330
    },
    "id": "hrkm0589p6xW",
    "outputId": "94a0c70d-90d7-43fd-92e7-c9b403d93e49"
   },
   "outputs": [
    {
     "name": "stdout",
     "output_type": "stream",
     "text": [
      "      Metric  Logistic Regression       ANN\n",
      "0   Accuracy             0.783217  0.790210\n",
      "1  Precision             0.745455  0.791667\n",
      "2     Recall             0.706897  0.655172\n",
      "3   F1 Score             0.725664  0.716981\n"
     ]
    }
   ],
   "source": [
    "# Create a DataFrame to compare Logistic Regression and ANN metrics\n",
    "import pandas as pd\n",
    "\n",
    "comparison_df = pd.DataFrame({\n",
    "    \"Metric\": [\"Accuracy\", \"Precision\", \"Recall\", \"F1 Score\"],\n",
    "    \"Logistic Regression\": [lr_metrics[\"Accuracy\"], lr_metrics[\"Precision\"], lr_metrics[\"Recall\"], lr_metrics[\"F1 Score\"]],\n",
    "    \"ANN\": [ann_metrics[\"Accuracy\"], ann_metrics[\"Precision\"], ann_metrics[\"Recall\"], ann_metrics[\"F1 Score\"]]\n",
    "})\n",
    "\n",
    "# Display the comparison table\n",
    "print(comparison_df)\n"
   ]
  }
 ],
 "metadata": {
  "colab": {
   "provenance": []
  },
  "kernelspec": {
   "display_name": "Python 3",
   "name": "python3"
  },
  "language_info": {
   "codemirror_mode": {
    "name": "ipython",
    "version": 3
   },
   "file_extension": ".py",
   "mimetype": "text/x-python",
   "name": "python",
   "nbconvert_exporter": "python",
   "pygments_lexer": "ipython3",
   "version": "3.11.3"
  }
 },
 "nbformat": 4,
 "nbformat_minor": 0
}
